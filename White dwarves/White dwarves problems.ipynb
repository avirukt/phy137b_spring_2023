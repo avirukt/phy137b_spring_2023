{
 "cells": [
  {
   "cell_type": "markdown",
   "metadata": {},
   "source": [
    "# White dwarves problems"
   ],
   "id": "0"
  },
  {
   "cell_type": "markdown",
   "metadata": {},
   "source": [
    "## Question 1: White dwarves and the Chandrashekhar limit"
   ],
   "id": "1"
  },
  {
   "cell_type": "markdown",
   "metadata": {},
   "source": [
    "### Learning objectives\n",
    "In this question you will:\n",
    "\n",
    "- integrate and minimise functions numerically\n",
    "- find the stable radius of a zero temperature white dwarf\n",
    "- connect the non-relativistic and ultra-relativstic limits\n"
   ],
   "id": "2"
  },
  {
   "cell_type": "markdown",
   "metadata": {},
   "source": [
    "### 1a. "
   ],
   "id": "3"
  },
  {
   "cell_type": "markdown",
   "metadata": {
    "flags": [
     "problems",
     "solutions"
    ]
   },
   "source": [
    "Plot the radius of a stable white dwarf against its mass, in the non-relativstic and ultra-relativstic limits. In this problem we will do the general relativstic case. What do you expect it to look like? (Use log scale for both axes. Assume $A=2Z$, i.e. there is negligible hydrogen left in the star.)"
   ],
   "id": "4"
  },
  {
   "cell_type": "code",
   "metadata": {},
   "source": [
    "#Write your answer here"
   ],
   "outputs": [],
   "execution_count": null,
   "id": "5"
  },
  {
   "cell_type": "markdown",
   "metadata": {},
   "source": [
    "### 1b. "
   ],
   "id": "6"
  },
  {
   "cell_type": "markdown",
   "metadata": {
    "flags": [
     "problems",
     "solutions"
    ]
   },
   "source": [
    "Assume the density of states remains the same in momentum space (i.e. the particle-in-a-box quantisation is the same). Now the energy of an electron is given by $\\epsilon = \\sqrt{p^2c^2+m_e^2c^4}-m_ec^2$. Write a function $E(M,R)$ that, given the mass and radius of a white dwarf, computes its total energy. For a solar mass white dwarf, plot $E$ as a function of $R$ and compare with the non-relativistic case."
   ],
   "id": "7"
  },
  {
   "cell_type": "code",
   "metadata": {},
   "source": [
    "#Write your answer here"
   ],
   "outputs": [],
   "execution_count": null,
   "id": "8"
  },
  {
   "cell_type": "markdown",
   "metadata": {},
   "source": [
    "### 1c. "
   ],
   "id": "9"
  },
  {
   "cell_type": "markdown",
   "metadata": {
    "collapsed": true,
    "flags": [
     "problems",
     "solutions"
    ]
   },
   "source": [
    "Write a function that given $M$, returns the $R$ that minimises $E(M,R)$. Use that to add another line to your plot from part a. Does it look like what you expected?\n",
    "\n",
    "How accurate is the non-relativistic prediction for a solar mass white dwarf? Plot $\\epsilon_F/m_ec^2$ against $M$. Where does it cross 1? "
   ],
   "id": "10"
  },
  {
   "cell_type": "code",
   "metadata": {},
   "source": [
    "#Write your answer here"
   ],
   "outputs": [],
   "execution_count": null,
   "id": "11"
  }
 ],
 "metadata": {
  "kernelspec": {
   "display_name": "Python [default]",
   "language": "python",
   "name": "python3"
  },
  "language_info": {
   "codemirror_mode": {
    "name": "ipython",
    "version": 3
   },
   "file_extension": ".py",
   "mimetype": "text/x-python",
   "name": "python",
   "nbconvert_exporter": "python",
   "pygments_lexer": "ipython3",
   "version": "3.6.8"
  }
 },
 "nbformat": 4,
 "nbformat_minor": 5
}